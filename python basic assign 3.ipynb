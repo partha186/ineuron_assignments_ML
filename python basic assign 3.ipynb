{
 "cells": [
  {
   "cell_type": "code",
   "execution_count": 1,
   "id": "4eb9e99c",
   "metadata": {
    "scrolled": true
   },
   "outputs": [
    {
     "name": "stdout",
     "output_type": "stream",
     "text": [
      "addition accumulation result \n",
      "= 6 \n",
      "\n",
      "result of division \n",
      "= 0.16666666666666666 \n",
      "\n",
      "result of comparision operator '>' \n",
      "= False \n",
      "\n",
      "result of lambda function to get the exponential value \n",
      "= 1 \n",
      "\n"
     ]
    }
   ],
   "source": [
    "def addition(x,y):\n",
    "    return x+y\n",
    "\n",
    "def division(x,y):\n",
    "    return x/y\n",
    "\n",
    "def greaterThan(x, y):\n",
    "    return x > y\n",
    "\n",
    "def myreduce(f = None, array=None):\n",
    "    '''custom reduce function'''\n",
    "    # keep the first element of array in the accumulator\n",
    "    accumulator = array[0]\n",
    "    # iterate over the array to accumulate the result in accumulator\n",
    "    for i in array[1:]:\n",
    "        accumulator = f(accumulator, i)\n",
    "    # return the accumulated result\n",
    "    return accumulator\n",
    "\n",
    "# test array \n",
    "arr = [1,2,3]\n",
    "add_result = myreduce(f = addition, array=arr)\n",
    "print(f\"addition accumulation result \\n= {add_result}\", \"\\n\")\n",
    "\n",
    "div_result = myreduce(f = division, array=arr)\n",
    "print(f\"result of division \\n= {div_result}\", \"\\n\")\n",
    "\n",
    "greater_than_result = myreduce(f = greaterThan, array=arr)\n",
    "print(f\"result of comparision operator '>' \\n= {greater_than_result}\", \"\\n\")\n",
    "\n",
    "using_lambda_function = myreduce( f = lambda x, y: x**y, array=arr)\n",
    "print(f\"result of lambda function to get the exponential value \\n= {using_lambda_function}\", \"\\n\")"
   ]
  },
  {
   "cell_type": "code",
   "execution_count": null,
   "id": "f018cb15",
   "metadata": {},
   "outputs": [],
   "source": [
    "##TEST FUNCTION TO CHECK THE RESULTS\n",
    "##to compare results of in-built functions and custom functions\n",
    "##[NOTE: THIS IS NOT A PART OF ASSIGNMENT]"
   ]
  },
  {
   "cell_type": "code",
   "execution_count": 10,
   "id": "cea9fbb1",
   "metadata": {},
   "outputs": [],
   "source": [
    "class TestCustomFunctions:\n",
    "    '''class to test custom functions with in-built functions'''\n",
    "    def __init__(self, iterable=None, testFunctions=None, \n",
    "                 myCustomFunc=None, inBuiltFunc=None):\n",
    "        self.iterable = iterable # array \n",
    "        self.testFunctions = testFunctions # array of functions to apply\n",
    "        self.myCustomFunc = myCustomFunc # my function to test\n",
    "        self.inBuiltFunc = inBuiltFunc # in built python function\n",
    "\n",
    "    def getSolution(self, testFunc):\n",
    "        '''compare solution of custom and inBuilt function'''\n",
    "        # store result of custom function\n",
    "        myResult = self.myCustomFunc(f=testFunc, array=self.iterable)\n",
    "        \n",
    "        # store result of in built function\n",
    "        inBuiltFunctionResult = self.inBuiltFunc(testFunc, self.iterable)\n",
    "        \n",
    "        # check if filter function then for inBuilt function\n",
    "        # one has to return result as a list\n",
    "        if self.inBuiltFunc == filter:\n",
    "            return myResult == list(inBuiltFunctionResult)\n",
    "        return myResult == inBuiltFunctionResult\n",
    "\n",
    "    def test(self):\n",
    "        '''\n",
    "        assertion test to compare results\n",
    "        of custom and inBuilt functions\n",
    "        '''\n",
    "        # install nose lib if not installed\n",
    "        try:\n",
    "            from nose.tools import assert_equal\n",
    "        except:\n",
    "            print(\"installing nose library to proceed further\")\n",
    "            import os\n",
    "            os.system(\"pip install nose\")\n",
    "            # now load nose lib as it got failed before\n",
    "            from nose.tools import assert_equal\n",
    "            \n",
    "        # run tests - \n",
    "        try:\n",
    "            for testFunc in self.testFunctions:\n",
    "                assert_equal(self.getSolution(testFunc), True)\n",
    "                print(f\"result for {testFunc}\")\n",
    "                print(\"--\"*20)\n",
    "            print(\"ALL TEST CASES PASSED !!\")\n",
    "        except:\n",
    "            print(\"TEST FAILED !!\")"
   ]
  },
  {
   "cell_type": "markdown",
   "id": "7a456db4",
   "metadata": {},
   "source": [
    "reduce FUNCTION\n",
    "At first step, first two elements of sequence are picked and the result is obtained.\n",
    "Next step is to apply the same function to the previously attained result and the number just succeeding the second element and the result is again stored.\n",
    "This process continues till no more elements are left in the container.\n",
    "The final returned result is returned and printed on console."
   ]
  },
  {
   "cell_type": "code",
   "execution_count": 11,
   "id": "381b0ebf",
   "metadata": {},
   "outputs": [
    {
     "name": "stdout",
     "output_type": "stream",
     "text": [
      "The sum of the list elements is : 17\n",
      "The maximum element of the list is : 6\n"
     ]
    }
   ],
   "source": [
    "import functools\n",
    " \n",
    "# initializing list\n",
    "lis = [1, 3, 5, 6, 2, ]\n",
    " \n",
    "# using reduce to compute sum of list\n",
    "print(\"The sum of the list elements is : \", end=\"\")\n",
    "print(functools.reduce(lambda a, b: a+b, lis))\n",
    " \n",
    "# using reduce to compute maximum element from list\n",
    "print(\"The maximum element of the list is : \", end=\"\")\n",
    "print(functools.reduce(lambda a, b: a if a > b else b, lis))"
   ]
  },
  {
   "cell_type": "code",
   "execution_count": 12,
   "id": "5e28842c",
   "metadata": {},
   "outputs": [
    {
     "name": "stdout",
     "output_type": "stream",
     "text": [
      "verifying my custom reduce function w.r.t. in build reduce function...\n",
      "\n",
      "installing nose library to proceed further\n",
      "result for <function addition at 0x0000016A1C707EE0>\n",
      "----------------------------------------\n",
      "result for <function division at 0x0000016A1C707F70>\n",
      "----------------------------------------\n",
      "result for <function greaterThan at 0x0000016A1C740040>\n",
      "----------------------------------------\n",
      "ALL TEST CASES PASSED !!\n"
     ]
    }
   ],
   "source": [
    "from functools import reduce\n",
    "\n",
    "array = [1,2,3]\n",
    "\n",
    "testingReduce = TestCustomFunctions(iterable = array,\n",
    "                                    testFunctions = [addition, division, greaterThan],\n",
    "                                    myCustomFunc = myreduce,\n",
    "                                    inBuiltFunc = reduce)\n",
    "print(\"verifying my custom reduce function w.r.t. in build reduce function...\\n\")\n",
    "testingReduce.test()"
   ]
  },
  {
   "cell_type": "code",
   "execution_count": 13,
   "id": "deea49a4",
   "metadata": {},
   "outputs": [],
   "source": [
    "##Q.2 Write a Python program to implement your own myfilter() function which \n",
    "##works exactly like Python's built-in function filter()"
   ]
  },
  {
   "cell_type": "code",
   "execution_count": 14,
   "id": "152330c8",
   "metadata": {},
   "outputs": [
    {
     "name": "stdout",
     "output_type": "stream",
     "text": [
      "filtering odd nos\n",
      "=[1, 3, 5, 7, 9]\n",
      "\n",
      "filtering even result\n",
      "=[2, 4, 6, 8, 0]\n",
      "\n",
      "filtering vowels result\n",
      "=['e', 'o']\n",
      "\n"
     ]
    }
   ],
   "source": [
    "def is_odd_no(x):\n",
    "    return x%2!=0\n",
    "\n",
    "def is_even_no(x):\n",
    "    return x%2==0\n",
    "\n",
    "def is_vowel(x):\n",
    "    vowel = ['a', 'e', 'i', 'o', 'u']\n",
    "    if x in vowel:\n",
    "        return True\n",
    "    return False\n",
    "\n",
    "def myFilter(f = None, array = None):\n",
    "    '''custom filter function'''\n",
    "    # init empty array for results\n",
    "    results = []\n",
    "\n",
    "    # iterate over input array for filtering \n",
    "    for i in array:\n",
    "        if f(i):\n",
    "            results.append(i)\n",
    "    return results\n",
    "\n",
    "arr = [1,2,3,4,5,6,7,8,9,0]\n",
    "odd_result = myFilter(f = is_odd_no, array = arr)\n",
    "print(f\"filtering odd nos\\n={odd_result}\\n\")\n",
    "\n",
    "even_result = myFilter(f = is_even_no, array = arr)\n",
    "print(f\"filtering even result\\n={even_result}\\n\")\n",
    "\n",
    "alphaArray = list(\"hello\")\n",
    "alpha_result = myFilter(f = is_vowel, array = alphaArray)\n",
    "print(f\"filtering vowels result\\n={alpha_result}\\n\")"
   ]
  },
  {
   "cell_type": "code",
   "execution_count": 15,
   "id": "2257de49",
   "metadata": {},
   "outputs": [
    {
     "name": "stdout",
     "output_type": "stream",
     "text": [
      "result for <function is_odd_no at 0x0000016A1C8EBA60>\n",
      "----------------------------------------\n",
      "result for <function is_even_no at 0x0000016A1C7FB670>\n",
      "----------------------------------------\n",
      "ALL TEST CASES PASSED !!\n"
     ]
    }
   ],
   "source": [
    "###TEsting:\n",
    "# veriying results of my custom filter wrt to inbuild filter function\n",
    "\n",
    "# testing for numerical data\n",
    "\n",
    "arr = [1,2,3,4,5,6,7,8,9,0]\n",
    "testingFilter = TestCustomFunctions(iterable = arr, \n",
    "                                    testFunctions = [is_odd_no, is_even_no],\n",
    "                                    myCustomFunc = myFilter,\n",
    "                                    inBuiltFunc = filter)\n",
    "testingFilter.test()"
   ]
  },
  {
   "cell_type": "code",
   "execution_count": 16,
   "id": "bf43e90e",
   "metadata": {},
   "outputs": [
    {
     "name": "stdout",
     "output_type": "stream",
     "text": [
      "result for <function is_vowel at 0x0000016A1C7403A0>\n",
      "----------------------------------------\n",
      "ALL TEST CASES PASSED !!\n"
     ]
    }
   ],
   "source": [
    "# veriying results of my custom filter wrt to inbuild filter function\n",
    "\n",
    "# testing for strings or object data\n",
    "alphaArray = list(\"hello world\")\n",
    "testingFilter = TestCustomFunctions(iterable = alphaArray, \n",
    "                                    testFunctions = [is_vowel],\n",
    "                                    myCustomFunc = myFilter,\n",
    "                                    inBuiltFunc = filter)\n",
    "testingFilter.test()"
   ]
  },
  {
   "cell_type": "markdown",
   "id": "d39002ef",
   "metadata": {},
   "source": [
    "filter() in python\n",
    "Difficulty Level : Easy\n",
    "Last Updated : 22 Apr, 2020\n",
    "The filter() method filters the given sequence with the help of a function that tests each element in the sequence to be true or not.\n",
    "\n",
    "syntax:\n",
    "\n",
    "filter(function, sequence)\n",
    "Parameters:\n",
    "function: function that tests if each element of a \n",
    "sequence true or not.\n",
    "sequence: sequence which needs to be filtered, it can \n",
    "be sets, lists, tuples, or containers of any iterators.\n",
    "Returns:\n",
    "returns an iterator that is already filtered.\n",
    "\n"
   ]
  },
  {
   "cell_type": "code",
   "execution_count": 17,
   "id": "85ea26e3",
   "metadata": {},
   "outputs": [
    {
     "name": "stdout",
     "output_type": "stream",
     "text": [
      "The filtered letters are:\n",
      "e\n",
      "e\n"
     ]
    }
   ],
   "source": [
    "# function that filters vowels\n",
    "def fun(variable):\n",
    "    letters = ['a', 'e', 'i', 'o', 'u']\n",
    "    if (variable in letters):\n",
    "        return True\n",
    "    else:\n",
    "        return False\n",
    "  \n",
    "  \n",
    "# sequence\n",
    "sequence = ['g', 'e', 'e', 'j', 'k', 's', 'p', 'r']\n",
    "  \n",
    "# using filter function\n",
    "filtered = filter(fun, sequence)\n",
    "  \n",
    "print('The filtered letters are:')\n",
    "for s in filtered:\n",
    "    print(s)"
   ]
  },
  {
   "cell_type": "code",
   "execution_count": 19,
   "id": "068a474d",
   "metadata": {},
   "outputs": [
    {
     "data": {
      "text/plain": [
       "['A', 'C', 'A', 'D', 'G', 'I', 'L', 'D']"
      ]
     },
     "execution_count": 19,
     "metadata": {},
     "output_type": "execute_result"
    }
   ],
   "source": [
    "# 1st sequence\n",
    "str1 = 'ACADGILD'\n",
    "[i for i in str1]\n",
    "['A', 'C', 'A', 'D', 'G', 'I', 'L', 'D']\n"
   ]
  },
  {
   "cell_type": "code",
   "execution_count": 20,
   "id": "872df29e",
   "metadata": {},
   "outputs": [
    {
     "data": {
      "text/plain": [
       "['x', 'xx', 'xxx', 'xxxx', 'y', 'yy', 'yyy', 'yyyy', 'z', 'zz', 'zzz', 'zzzz']"
      ]
     },
     "execution_count": 20,
     "metadata": {},
     "output_type": "execute_result"
    }
   ],
   "source": [
    "# 2nd sequence\n",
    "lst = list(\"xyz\")\n",
    "[letter*i for letter in lst for i in range(1,5) ]\n",
    "['x', 'xx', 'xxx', 'xxxx', 'y', 'yy', 'yyy', 'yyyy', 'z', 'zz', 'zzz', 'zzzz']\n"
   ]
  },
  {
   "cell_type": "code",
   "execution_count": 23,
   "id": "97365d60",
   "metadata": {},
   "outputs": [
    {
     "data": {
      "text/plain": [
       "['x', 'y', 'z', 'xx', 'yy', 'zz', 'xxx', 'yyy', 'zzz', 'xxxx', 'yyyy', 'zzzz']"
      ]
     },
     "execution_count": 23,
     "metadata": {},
     "output_type": "execute_result"
    }
   ],
   "source": [
    "# 3rd sequence \n",
    "lst = list(\"xyz\")\n",
    "\n",
    "[letter*i for i in range(1,5) for letter in lst]\n",
    "['x', 'y', 'z', 'xx', 'yy', 'zz', 'xxx', 'yyy', 'zzz', 'xxxx', 'yyyy', 'zzzz']\n"
   ]
  },
  {
   "cell_type": "code",
   "execution_count": 22,
   "id": "66343f48",
   "metadata": {},
   "outputs": [
    {
     "data": {
      "text/plain": [
       "[[2], [3], [4], [3], [4], [5], [4], [5], [6]]"
      ]
     },
     "execution_count": 22,
     "metadata": {},
     "output_type": "execute_result"
    }
   ],
   "source": [
    "# 4th sequence\n",
    "[[i+k] for i in range(2, 5) for k in range(3)]\n",
    "[[2], [3], [4], [3], [4], [5], [4], [5], [6]]\n"
   ]
  },
  {
   "cell_type": "code",
   "execution_count": 24,
   "id": "d6b32618",
   "metadata": {},
   "outputs": [
    {
     "data": {
      "text/plain": [
       "[[2, 3, 4, 5], [3, 4, 5, 6], [4, 5, 6, 7], [5, 6, 7, 8]]"
      ]
     },
     "execution_count": 24,
     "metadata": {},
     "output_type": "execute_result"
    }
   ],
   "source": [
    "# 5th sequence\n",
    "[[i+k for i in range(2,6)] for k in range(4)]\n",
    "[[2, 3, 4, 5], [3, 4, 5, 6], [4, 5, 6, 7], [5, 6, 7, 8]]\n"
   ]
  },
  {
   "cell_type": "code",
   "execution_count": 25,
   "id": "9222c0b6",
   "metadata": {},
   "outputs": [
    {
     "data": {
      "text/plain": [
       "[(1, 1), (2, 1), (3, 1), (1, 2), (2, 2), (3, 2), (1, 3), (2, 3), (3, 3)]"
      ]
     },
     "execution_count": 25,
     "metadata": {},
     "output_type": "execute_result"
    }
   ],
   "source": [
    "# 6th sequence\n",
    "lst = list(range(1,4))\n",
    "[(k ,i) for i in range(1,4) for k in range(1,4)]\n",
    "[(1, 1), (2, 1), (3, 1), (1, 2), (2, 2), (3, 2), (1, 3), (2, 3), (3, 3)]\n"
   ]
  },
  {
   "cell_type": "code",
   "execution_count": null,
   "id": "be6ddd6e",
   "metadata": {},
   "outputs": [],
   "source": []
  },
  {
   "cell_type": "code",
   "execution_count": null,
   "id": "4ed1a802",
   "metadata": {},
   "outputs": [],
   "source": []
  }
 ],
 "metadata": {
  "kernelspec": {
   "display_name": "Python 3 (ipykernel)",
   "language": "python",
   "name": "python3"
  },
  "language_info": {
   "codemirror_mode": {
    "name": "ipython",
    "version": 3
   },
   "file_extension": ".py",
   "mimetype": "text/x-python",
   "name": "python",
   "nbconvert_exporter": "python",
   "pygments_lexer": "ipython3",
   "version": "3.9.7"
  }
 },
 "nbformat": 4,
 "nbformat_minor": 5
}
