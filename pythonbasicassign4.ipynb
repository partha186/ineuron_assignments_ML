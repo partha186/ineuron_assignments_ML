{
 "cells": [
  {
   "cell_type": "markdown",
   "id": "466fbc0c",
   "metadata": {},
   "source": [
    "Q.5 Write a Python Program(with class concepts) to find the area of the triangle using the below formula.\n",
    "area = (s(s-a)(s-b)(s-c)) ** 0.5\n",
    "Function to take the length of the sides of triangle from user should be defined in the parent class and function to calculate the area should be defined in subclass.\n",
    "class Dimensions:\n",
    "    "
   ]
  },
  {
   "cell_type": "code",
   "execution_count": 5,
   "id": "06a81622",
   "metadata": {},
   "outputs": [
    {
     "ename": "NameError",
     "evalue": "name 'sideA' is not defined",
     "output_type": "error",
     "traceback": [
      "\u001b[1;31m---------------------------------------------------------------------------\u001b[0m",
      "\u001b[1;31mNameError\u001b[0m                                 Traceback (most recent call last)",
      "\u001b[1;32mC:\\Users\\PARTHA~1\\AppData\\Local\\Temp/ipykernel_10896/1475386709.py\u001b[0m in \u001b[0;36m<module>\u001b[1;34m\u001b[0m\n\u001b[1;32m----> 1\u001b[1;33m \u001b[1;32mclass\u001b[0m \u001b[0mSides_triangle\u001b[0m\u001b[1;33m(\u001b[0m\u001b[0msideA\u001b[0m\u001b[1;33m,\u001b[0m \u001b[0msideB\u001b[0m\u001b[1;33m,\u001b[0m \u001b[0msideC\u001b[0m\u001b[1;33m)\u001b[0m\u001b[1;33m:\u001b[0m\u001b[1;33m\u001b[0m\u001b[1;33m\u001b[0m\u001b[0m\n\u001b[0m\u001b[0;32m      2\u001b[0m     \u001b[1;32mdef\u001b[0m \u001b[0m__init__\u001b[0m\u001b[1;33m(\u001b[0m\u001b[0mself\u001b[0m\u001b[1;33m,\u001b[0m \u001b[0msideA\u001b[0m\u001b[1;33m,\u001b[0m \u001b[0msideB\u001b[0m\u001b[1;33m,\u001b[0m \u001b[0msideC\u001b[0m\u001b[1;33m)\u001b[0m\u001b[1;33m:\u001b[0m\u001b[1;33m\u001b[0m\u001b[1;33m\u001b[0m\u001b[0m\n\u001b[0;32m      3\u001b[0m         \u001b[0mself\u001b[0m\u001b[1;33m.\u001b[0m\u001b[0ma\u001b[0m \u001b[1;33m=\u001b[0m \u001b[0msideA\u001b[0m\u001b[1;33m\u001b[0m\u001b[1;33m\u001b[0m\u001b[0m\n\u001b[0;32m      4\u001b[0m         \u001b[0mself\u001b[0m\u001b[1;33m.\u001b[0m\u001b[0mb\u001b[0m \u001b[1;33m=\u001b[0m \u001b[0msideB\u001b[0m\u001b[1;33m\u001b[0m\u001b[1;33m\u001b[0m\u001b[0m\n\u001b[0;32m      5\u001b[0m         \u001b[0mself\u001b[0m\u001b[1;33m.\u001b[0m\u001b[0mc\u001b[0m \u001b[1;33m=\u001b[0m \u001b[0msideC\u001b[0m\u001b[1;33m\u001b[0m\u001b[1;33m\u001b[0m\u001b[0m\n",
      "\u001b[1;31mNameError\u001b[0m: name 'sideA' is not defined"
     ]
    }
   ],
   "source": [
    "class Sides_triangle(sideA, sideB, sideC):\n",
    "    def __init__(self, sideA, sideB, sideC):\n",
    "        self.a = sideA\n",
    "        self.b = sideB\n",
    "        self.c = sideC\n",
    "\n",
    "    def semiperimeter(self):\n",
    "        # calculate semi perimeter\n",
    "        s = (self.a + self.b + self.c)/2\n",
    "        return s\n",
    "\n",
    "class Area(Dimensions):\n",
    "    '''\n",
    "    Class to calculate the area of triangle\n",
    "    based on Heron's Formula\n",
    "    who's side are defined in Dimensions class\n",
    "    '''\n",
    "    def __init__(self, *args):\n",
    "         super().__init__(*args)\n",
    "\n",
    "    def calculate_area(self):\n",
    "        # get the semi perimeter from Dimension parent class\n",
    "        s = super().semiperimeter()\n",
    "        # calculate area\n",
    "        area = (s*(s-self.a)*(s-self.b)*(s-self.c)) ** 0.5\n",
    "        print(f\"Area of the triangle = {area} unit\\u00b2\")\n",
    "        return area\n",
    "\n",
    "area = Area(3,4,5)\n",
    "_ = area.calculate_area()"
   ]
  },
  {
   "cell_type": "code",
   "execution_count": null,
   "id": "fb6ee124",
   "metadata": {},
   "outputs": [],
   "source": []
  },
  {
   "cell_type": "code",
   "execution_count": null,
   "id": "9733c35a",
   "metadata": {},
   "outputs": [],
   "source": []
  },
  {
   "cell_type": "code",
   "execution_count": null,
   "id": "e880a731",
   "metadata": {},
   "outputs": [],
   "source": []
  },
  {
   "cell_type": "code",
   "execution_count": null,
   "id": "8540fecf",
   "metadata": {},
   "outputs": [],
   "source": []
  },
  {
   "cell_type": "code",
   "execution_count": null,
   "id": "9ccec7c5",
   "metadata": {},
   "outputs": [],
   "source": []
  }
 ],
 "metadata": {
  "kernelspec": {
   "display_name": "Python 3 (ipykernel)",
   "language": "python",
   "name": "python3"
  },
  "language_info": {
   "codemirror_mode": {
    "name": "ipython",
    "version": 3
   },
   "file_extension": ".py",
   "mimetype": "text/x-python",
   "name": "python",
   "nbconvert_exporter": "python",
   "pygments_lexer": "ipython3",
   "version": "3.9.7"
  }
 },
 "nbformat": 4,
 "nbformat_minor": 5
}
