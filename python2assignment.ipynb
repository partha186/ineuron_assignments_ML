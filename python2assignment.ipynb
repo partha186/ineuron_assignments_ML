{
 "cells": [
  {
   "cell_type": "markdown",
   "id": "cc29181a",
   "metadata": {},
   "source": [
    "1. Create the below pattern using nested for loop in Python.\n",
    "'''\n",
    "*  \n",
    "* *  \n",
    "* * * \n",
    "* * * *  \n",
    "* * * * *  \n",
    "* * * *  \n",
    "* * *  \n",
    "* *  \n",
    "* \n",
    "'''\n",
    "2. Write a Python program to reverse a word after accepting the input from the user.\n",
    "\n",
    "Input word: ineuron\n",
    "Output: norueni\n"
   ]
  },
  {
   "cell_type": "code",
   "execution_count": 37,
   "id": "9b6b7c51",
   "metadata": {},
   "outputs": [
    {
     "name": "stdout",
     "output_type": "stream",
     "text": [
      "* \r\n",
      "* * \r\n",
      "* * * \r\n",
      "* * * * \r\n",
      "* * * * * \r\n",
      "* * * * * \n",
      "* * * * \n",
      "* * * \n",
      "* * \n",
      "* \n"
     ]
    }
   ],
   "source": [
    "def pyramid(N):\n",
    "    for i in range(0,N):\n",
    "        for j in range(0,i+1):\n",
    "            if(j<=i):\n",
    "                print(\"*\",end=\" \")\n",
    "        print(\"\\r\")\n",
    "    \n",
    "    for i in range(N,0,-1):\n",
    "        print(\"* \"*i)\n",
    "        \n",
    "                \n",
    "            \n",
    "            \n",
    "pyramid(5)"
   ]
  },
  {
   "cell_type": "code",
   "execution_count": 42,
   "id": "a3cff6ab",
   "metadata": {},
   "outputs": [
    {
     "name": "stdout",
     "output_type": "stream",
     "text": [
      "input a word:  dffs\n",
      "output : sffd\n"
     ]
    }
   ],
   "source": [
    "def reverse_string(name):\n",
    "    print(f\"output : {name[::-1]}\")\n",
    "\n",
    "name=input(\"input a word:  \")\n",
    "reverse_string(name)   "
   ]
  },
  {
   "cell_type": "markdown",
   "id": "8af7ef46",
   "metadata": {},
   "source": [
    "# print pattern\n",
    "#sd\n",
    "'''\n",
    "1 \n",
    "2 3 \n",
    "4 5 6 \n",
    "7 8 9 10 \n",
    "11 12 13 14 15 \n",
    "'''"
   ]
  },
  {
   "cell_type": "code",
   "execution_count": 44,
   "id": "8e4d51c8",
   "metadata": {},
   "outputs": [
    {
     "name": "stdout",
     "output_type": "stream",
     "text": [
      "1 \r\n",
      "2 3 \r\n",
      "4 5 6 \r\n",
      "7 8 9 10 \r\n",
      "11 12 13 14 15 \r\n"
     ]
    }
   ],
   "source": [
    "# Python 3.x code to demonstrate star pattern\n",
    " \n",
    "# Function to demonstrate printing pattern of numbers\n",
    "def contnum(n):\n",
    "     \n",
    "    # initializing starting number\n",
    "    num = 1\n",
    " \n",
    "    # outer loop to handle number of rows\n",
    "    for i in range(0, n):\n",
    "     \n",
    "        # not re assigning num\n",
    "        # num = 1\n",
    "     \n",
    "        # inner loop to handle number of columns\n",
    "        # values changing acc. to outer loop\n",
    "        for j in range(0, i+1):\n",
    "         \n",
    "            # printing number\n",
    "            print(num, end=\" \")\n",
    "         \n",
    "            # incrementing number at each column\n",
    "            num = num + 1\n",
    "     \n",
    "        # ending line after each row\n",
    "        print(\"\\r\")\n",
    " \n",
    "n = 5\n",
    " \n",
    "# sending 5 as argument\n",
    "# calling Function\n",
    "contnum(n)\n"
   ]
  },
  {
   "cell_type": "code",
   "execution_count": 46,
   "id": "ac98b919",
   "metadata": {},
   "outputs": [
    {
     "name": "stdout",
     "output_type": "stream",
     "text": [
      "A \r\n",
      "B B \r\n",
      "C C C \r\n",
      "D D D D \r\n",
      "E E E E E \r\n"
     ]
    }
   ],
   "source": [
    "\n",
    "\n",
    "# Python 3.x code to demonstrate star pattern\n",
    " \n",
    "# Function to demonstrate printing pattern of alphabets\n",
    "def alphapat(n):\n",
    "     \n",
    "    # initializing value corresponding to 'A'\n",
    "    # ASCII value\n",
    "    num = 65\n",
    " \n",
    "    # outer loop to handle number of rows\n",
    "    # 5 in this case\n",
    "    for i in range(0, n):\n",
    "     \n",
    "        # inner loop to handle number of columns\n",
    "        # values changing acc. to outer loop\n",
    "        for j in range(0, i+1):\n",
    "         \n",
    "            # explicitly converting to char\n",
    "            ch = chr(num)\n",
    "         \n",
    "            # printing char value\n",
    "            print(ch, end=\" \")\n",
    "     \n",
    "        # incrementing number\n",
    "        num = num + 1\n",
    "     \n",
    "        # ending line after each row\n",
    "        print(\"\\r\")\n",
    " \n",
    "# Driver Code\n",
    "n = 5\n",
    "alphapat(n)\n",
    "\n",
    "\n"
   ]
  },
  {
   "cell_type": "code",
   "execution_count": 49,
   "id": "8b9d902f",
   "metadata": {},
   "outputs": [
    {
     "name": "stdout",
     "output_type": "stream",
     "text": [
      "A \r\n",
      "B C \r\n",
      "D E F \r\n",
      "G H I J \r\n",
      "K L M N O \r\n"
     ]
    }
   ],
   "source": [
    "# Python code 3.x to demonstrate star pattern\n",
    " \n",
    "# Function to demonstrate printing pattern of alphabets\n",
    "def  contalpha(n):\n",
    "     \n",
    "    # initializing value corresponding to 'A'\n",
    "    # ASCII value\n",
    "    num = 65\n",
    " \n",
    "    # outer loop to handle number of rows\n",
    "    for i in range(0, n):\n",
    "     \n",
    "        # inner loop to handle number of columns\n",
    "        # values changing acc. to outer loop\n",
    "        for j in range(0, i+1):\n",
    "         \n",
    "            # explicitly converting to char\n",
    "            ch = chr(num)\n",
    "         \n",
    "            # printing char value\n",
    "            print(ch, end=\" \")\n",
    "         \n",
    "            # incrementing at each column\n",
    "            num = num +1\n",
    "     \n",
    "     \n",
    "        # ending line after each row\n",
    "        print(\"\\r\")\n",
    " \n",
    "# Driver code\n",
    "n = 5\n",
    "contalpha(n)\n",
    "\n"
   ]
  },
  {
   "cell_type": "code",
   "execution_count": null,
   "id": "aec4e904",
   "metadata": {},
   "outputs": [],
   "source": []
  }
 ],
 "metadata": {
  "kernelspec": {
   "display_name": "Python 3 (ipykernel)",
   "language": "python",
   "name": "python3"
  },
  "language_info": {
   "codemirror_mode": {
    "name": "ipython",
    "version": 3
   },
   "file_extension": ".py",
   "mimetype": "text/x-python",
   "name": "python",
   "nbconvert_exporter": "python",
   "pygments_lexer": "ipython3",
   "version": "3.9.7"
  }
 },
 "nbformat": 4,
 "nbformat_minor": 5
}
