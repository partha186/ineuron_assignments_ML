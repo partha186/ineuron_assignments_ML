{
 "cells": [
  {
   "cell_type": "markdown",
   "id": "bc71be7d",
   "metadata": {},
   "source": [
    "Write a program which will find all such numbers which are divisible by 7\n",
    "but are not a multiple of 5, between 2000 and 3200 (both included). The numbers obtained should be printed in a comma-separated sequence on a single line."
   ]
  },
  {
   "cell_type": "code",
   "execution_count": null,
   "id": "11658c43",
   "metadata": {},
   "outputs": [],
   "source": [
    "def Series(min_,max_):\n",
    "    for i in range(min_,max_,1):\n",
    "        if(i%7==0) and (i%5!=0):\n",
    "            print(i, end=',')\n",
    "\n",
    "Series(2000, 3200)"
   ]
  },
  {
   "cell_type": "markdown",
   "id": "a0533298",
   "metadata": {},
   "source": [
    "2. Write a Python program to accept the user's first and last name and then getting them printed in the the reverse order with a space between first name and last name?\n",
    "\n",
    "list[<start>:<stop>:<step>]"
   ]
  },
  {
   "cell_type": "code",
   "execution_count": 5,
   "id": "2108e7f6",
   "metadata": {},
   "outputs": [
    {
     "name": "stdout",
     "output_type": "stream",
     "text": [
      "firstName: partha\n",
      "lastName: bera\n",
      "output: bera partha\n"
     ]
    }
   ],
   "source": [
    "def print_reverse(firstName, lastName):\n",
    "    print(f\"output: {lastName} {firstName}\")\n",
    "\n",
    "def print_reverse_EACH(firstName, lastName):\n",
    "    \"\"\"This will reverse each word as well\"\"\"\n",
    "    print(f\"output2: {lastName[::-1]} {firstName[::-1]}\")    \n",
    "    \n",
    "firstName = input(\"firstName: \")\n",
    "lastName = input(\"lastName: \")\n",
    "print_reverse(firstName, lastName)"
   ]
  },
  {
   "cell_type": "code",
   "execution_count": 6,
   "id": "62dc06b8",
   "metadata": {},
   "outputs": [
    {
     "name": "stdout",
     "output_type": "stream",
     "text": [
      "output2: areb ahtrap\n"
     ]
    }
   ],
   "source": [
    "print_reverse_EACH(firstName, lastName)"
   ]
  },
  {
   "cell_type": "markdown",
   "id": "6c0510f4",
   "metadata": {},
   "source": [
    "3.Write a Python program to find the volume of a sphere with diameter 12 cm. Formula: V=4/3 π r 3"
   ]
  },
  {
   "cell_type": "code",
   "execution_count": null,
   "id": "d3d01a3f",
   "metadata": {},
   "outputs": [],
   "source": [
    "import math\n",
    "def vol_sphere(r=None):\n",
    "    V = (4/3)*(math.pi)*(r**3)\n",
    "    print(f'Volume of sphere = {round(V, 2)} cubic-cms')\n",
    "\n",
    "diameter = 12\n",
    "vol_sphere(r=diameter/2)"
   ]
  },
  {
   "cell_type": "code",
   "execution_count": null,
   "id": "40927d12",
   "metadata": {},
   "outputs": [],
   "source": []
  },
  {
   "cell_type": "code",
   "execution_count": null,
   "id": "3ea9f3a9",
   "metadata": {},
   "outputs": [],
   "source": []
  }
 ],
 "metadata": {
  "kernelspec": {
   "display_name": "Python 3 (ipykernel)",
   "language": "python",
   "name": "python3"
  },
  "language_info": {
   "codemirror_mode": {
    "name": "ipython",
    "version": 3
   },
   "file_extension": ".py",
   "mimetype": "text/x-python",
   "name": "python",
   "nbconvert_exporter": "python",
   "pygments_lexer": "ipython3",
   "version": "3.9.7"
  }
 },
 "nbformat": 4,
 "nbformat_minor": 5
}
