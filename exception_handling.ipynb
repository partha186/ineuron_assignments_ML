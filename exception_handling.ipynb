{
 "cells": [
  {
   "cell_type": "code",
   "execution_count": 1,
   "id": "48018eda",
   "metadata": {},
   "outputs": [
    {
     "name": "stdout",
     "output_type": "stream",
     "text": [
      "error found: division by zero\n",
      "\n",
      "result of 5/0 = infinity\n"
     ]
    }
   ],
   "source": [
    "###Q.1 Write a function to compute 5/0 and use try/except to catch the exceptions.\n",
    "def computeDivision(numerator, denominator):\n",
    "    try:\n",
    "        result = numerator/denominator\n",
    "    except ZeroDivisionError as e:\n",
    "        print(f\"error found: {e}\")\n",
    "        result=\"infinity\"\n",
    "    return result\n",
    "\n",
    "numerator = 5\n",
    "denominator = 0\n",
    "ans = computeDivision(numerator, denominator)\n",
    "print(f\"\\nresult of {numerator}/{denominator} = {ans}\")"
   ]
  },
  {
   "cell_type": "code",
   "execution_count": 8,
   "id": "f1ce8141",
   "metadata": {},
   "outputs": [],
   "source": [
    "###.2 Implement a Python program to generate all sentences where subject is in [\"Americans\",\"Indians\"] and verb is in [\"Play\", \"watch\"] and the object is in [\"Baseball\",\"cricket\"].\n",
    "##Hint: Subject,Verb and Object should be declared in the program as shown below.\n",
    "##subjects=[\"Americans \",\"Indians\"]\n",
    "#verbs=[\"play\",\"watch\"]\n",
    "#objects=[\"Baseball\",\"Cricket\"]\n",
    "\n",
    "def sentence_generator(subjects=None, verbs=None, objects=None):\n",
    "    for sub in subjects:\n",
    "        for verb in verbs:\n",
    "            for obj in objects:\n",
    "                print(f\"{sub} {verb} {obj}\")\n"
   ]
  },
  {
   "cell_type": "code",
   "execution_count": 9,
   "id": "11f427d7",
   "metadata": {},
   "outputs": [
    {
     "name": "stdout",
     "output_type": "stream",
     "text": [
      "Americans play Baseball\n",
      "Americans play Cricket\n",
      "Americans watch Baseball\n",
      "Americans watch Cricket\n",
      "Indians play Baseball\n",
      "Indians play Cricket\n",
      "Indians watch Baseball\n",
      "Indians watch Cricket\n"
     ]
    }
   ],
   "source": [
    "SUBJECT=[\"Americans\",\"Indians\"]\n",
    "VERB=[\"play\",\"watch\"]\n",
    "OBJECT=[\"Baseball\",\"Cricket\"]\n",
    "\n",
    "sentence_generator(subjects=SUBJECT, verbs=VERB, objects=OBJECT)"
   ]
  },
  {
   "cell_type": "code",
   "execution_count": null,
   "id": "fcf890af",
   "metadata": {},
   "outputs": [],
   "source": []
  }
 ],
 "metadata": {
  "kernelspec": {
   "display_name": "Python 3 (ipykernel)",
   "language": "python",
   "name": "python3"
  },
  "language_info": {
   "codemirror_mode": {
    "name": "ipython",
    "version": 3
   },
   "file_extension": ".py",
   "mimetype": "text/x-python",
   "name": "python",
   "nbconvert_exporter": "python",
   "pygments_lexer": "ipython3",
   "version": "3.9.7"
  }
 },
 "nbformat": 4,
 "nbformat_minor": 5
}
